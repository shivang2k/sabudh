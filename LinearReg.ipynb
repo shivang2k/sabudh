{
  "nbformat": 4,
  "nbformat_minor": 0,
  "metadata": {
    "colab": {
      "name": "Assignment1.ipynb",
      "provenance": [],
      "collapsed_sections": []
    },
    "kernelspec": {
      "name": "python3",
      "display_name": "Python 3"
    }
  },
  "cells": [
    {
      "cell_type": "markdown",
      "metadata": {
        "id": "aAOG3wkA_4rz",
        "colab_type": "text"
      },
      "source": [
        "<h1>Programming Exercise 1</h1>"
      ]
    },
    {
      "cell_type": "code",
      "metadata": {
        "id": "_e0BTvaNUeSJ",
        "colab_type": "code",
        "colab": {}
      },
      "source": [
        "import numpy as np\n",
        "import matplotlib.pyplot as plt\n",
        "\n",
        "from scipy import spatial"
      ],
      "execution_count": 192,
      "outputs": []
    },
    {
      "cell_type": "code",
      "metadata": {
        "id": "6Epoan5IUiAj",
        "colab_type": "code",
        "colab": {}
      },
      "source": [
        "def generateRandom(dimension, number, varience):\n",
        "  np.set_printoptions(precision=4)\n",
        "  X = np.random.randn(number, dimension+1)\n",
        "  X[:,0] = 1\n",
        "  B = np.random.randn(dimension+1, 1)\n",
        "  Y = (X.dot(B) + np.random.normal(loc=1, scale=varience))\n",
        "  return X, B, Y"
      ],
      "execution_count": 193,
      "outputs": []
    },
    {
      "cell_type": "code",
      "metadata": {
        "id": "jiJ-YQ6NTEPE",
        "colab_type": "code",
        "colab": {}
      },
      "source": [
        "def linerRegression(X, Y, epoch=10, lr=0.05, threshold=0.00001):\n",
        "  dimension = np.shape(X[0])[0]\n",
        "  Bp = np.zeros(shape=(dimension,1))\n",
        "  costs = [0]\n",
        "  Blist = []\n",
        "  for iter in range(epoch):\n",
        "    h = X.dot(Bp)\n",
        "    loss = h - Y\n",
        "    gradient = X.T.dot(loss) / len(Y)\n",
        "    Bp = Bp - lr*gradient\n",
        "    Blist.append(cosine(B, Bp))\n",
        "    cost = cost_function(X, Y, Bp)\n",
        "    if abs(cost-costs[-1]) < threshold:\n",
        "      print(\"Threshold met at epoch: %2d\" %(len(costs),))\n",
        "      break\n",
        "    costs.append(cost)\n",
        "  #plot(range(len(Blist)), Blist)            #plot how Similirity between B an Bp increases\n",
        "  #plot(range(len(costs)), costs)            #plot how Cost function is decreasing\n",
        "  return Bp, costs"
      ],
      "execution_count": 194,
      "outputs": []
    },
    {
      "cell_type": "code",
      "metadata": {
        "id": "TV85tSUVUKJ2",
        "colab_type": "code",
        "colab": {}
      },
      "source": [
        "def cost_function(X, Y, B):\n",
        "  m = len(Y)\n",
        "  J = np.sum((X.dot(B) - Y) ** 2)/(2 * m)\n",
        "  return J"
      ],
      "execution_count": 195,
      "outputs": []
    },
    {
      "cell_type": "code",
      "metadata": {
        "id": "Qx9eDpBtVj0q",
        "colab_type": "code",
        "colab": {}
      },
      "source": [
        "def cosine(B, Bp):\n",
        "  result = 1 - spatial.distance.cosine(B, Bp)\n",
        "  return result"
      ],
      "execution_count": 196,
      "outputs": []
    },
    {
      "cell_type": "code",
      "metadata": {
        "id": "PVlLVgmLroY6",
        "colab_type": "code",
        "colab": {}
      },
      "source": [
        "def plot(X, Y):\n",
        "  #plt.plot(X, Y)\n",
        "  plt.scatter(X, Y)\n",
        "  plt.show()"
      ],
      "execution_count": 197,
      "outputs": []
    },
    {
      "cell_type": "code",
      "metadata": {
        "id": "qTNZf4mwjQbj",
        "colab_type": "code",
        "colab": {
          "base_uri": "https://localhost:8080/",
          "height": 50
        },
        "outputId": "c543805a-8113-45fb-9d02-81a948e0b7a9"
      },
      "source": [
        "X, B, Y = generateRandom(10, 100, 0)\n",
        "Bp, cost = linerRegression(X, Y, epoch = 10000, lr = 0.001, threshold=0.0001)\n",
        "print(\"similarity between B(generated) & B(from LR function) i: %2f\" %(cosine(B, Bp),))\n",
        "#plot(range(len(cost)), cost)"
      ],
      "execution_count": 198,
      "outputs": [
        {
          "output_type": "stream",
          "text": [
            "Threshold met at epoch: 2549\n",
            "similarity between B(generated) & B(from LR function) i: 0.935338\n"
          ],
          "name": "stdout"
        }
      ]
    },
    {
      "cell_type": "code",
      "metadata": {
        "id": "nQ7FZrpOj-oc",
        "colab_type": "code",
        "colab": {
          "base_uri": "https://localhost:8080/",
          "height": 268
        },
        "outputId": "0644e64c-e87b-4358-fbe2-5ce006307051"
      },
      "source": [
        "cosineVal = []\n",
        "for i in range(1, 100):\n",
        "  X, B, Y = generateRandom(20, i, 1)\n",
        "  Bp, cost = linerRegression(X, Y, epoch = 100, lr = 0.005, threshold=0)\n",
        "  cosineVal.append(cosine(B, Bp))\n",
        "\n",
        "plot(range(len(cosineVal)), cosineVal)"
      ],
      "execution_count": 203,
      "outputs": [
        {
          "output_type": "display_data",
          "data": {
            "image/png": "[encoded data removed]",
            "text/plain": [
              "<Figure size 432x288 with 1 Axes>"
            ]
          },
          "metadata": {
            "tags": [],
            "needs_background": "light"
          }
        }
      ]
    },
    {
      "cell_type": "code",
      "metadata": {
        "id": "iMdNivYqq58W",
        "colab_type": "code",
        "colab": {
          "base_uri": "https://localhost:8080/",
          "height": 264
        },
        "outputId": "f647abf4-d717-4e2f-ec6e-68a8baff7235"
      },
      "source": [
        "cosineVal = []\n",
        "for i in range(0, 100):\n",
        "  X, B, Y = generateRandom(10, 1000, i)\n",
        "  Bp, cost = linerRegression(X, Y, epoch = 100, lr = 0.005, threshold=0)\n",
        "  cosineVal.append(cosine(B, Bp))\n",
        "\n",
        "plot(range(len(cosineVal)), cosineVal)"
      ],
      "execution_count": 200,
      "outputs": [
        {
          "output_type": "display_data",
          "data": {
            "image/png": "[encoded data removed]",
            "text/plain": [
              "<Figure size 432x288 with 1 Axes>"
            ]
          },
          "metadata": {
            "tags": [],
            "needs_background": "light"
          }
        }
      ]
    },
    {
      "cell_type": "code",
      "metadata": {
        "id": "JK6mKetY_QT_",
        "colab_type": "code",
        "colab": {
          "base_uri": "https://localhost:8080/",
          "height": 264
        },
        "outputId": "4542a2e6-4f63-4ad7-809f-c816d584e8a7"
      },
      "source": [
        "cosineVal = []\n",
        "for i in range(2, 500):\n",
        "  X, B, Y = generateRandom(i, 250, 1)\n",
        "  Bp, cost = linerRegression(X, Y, epoch = 100, lr = 0.005, threshold=0)\n",
        "  cosineVal.append(cosine(B, Bp))\n",
        "\n",
        "plot(range(len(cosineVal)), cosineVal)"
      ],
      "execution_count": 201,
      "outputs": [
        {
          "output_type": "display_data",
          "data": {
            "image/png": "[encoded data removed]",
            "text/plain": [
              "<Figure size 432x288 with 1 Axes>"
            ]
          },
          "metadata": {
            "tags": [],
            "needs_background": "light"
          }
        }
      ]
    },
    {
      "cell_type": "code",
      "metadata": {
        "id": "Kol0u-YUAo8h",
        "colab_type": "code",
        "colab": {}
      },
      "source": [
        ""
      ],
      "execution_count": 201,
      "outputs": []
    }
  ]
}